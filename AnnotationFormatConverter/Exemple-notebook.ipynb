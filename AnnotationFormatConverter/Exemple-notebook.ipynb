{
 "cells": [
  {
   "cell_type": "code",
   "execution_count": 1,
   "metadata": {},
   "outputs": [],
   "source": [
    "import tqdm\n",
    "import glob"
   ]
  },
  {
   "cell_type": "markdown",
   "metadata": {},
   "source": [
    "### Annotation format converter"
   ]
  },
  {
   "cell_type": "markdown",
   "metadata": {},
   "source": [
    "1. XML to TXT"
   ]
  },
  {
   "cell_type": "code",
   "execution_count": 3,
   "metadata": {},
   "outputs": [
    {
     "name": "stderr",
     "output_type": "stream",
     "text": [
      "100%|██████████| 10/10 [00:00<00:00, 5771.71it/s]\n"
     ]
    }
   ],
   "source": [
    "from AnnotationFormatConverter import vocxml_to_yolotxt\n",
    "\n",
    "# define class name to id dict\n",
    "class_name_to_id_mapping = {\"smoke\": 0,\n",
    "                            \"fire\": 1}\n",
    "\n",
    "# get the annotations\n",
    "annotation_dir = 'subset_to_test/xml_to_txt/'\n",
    "saved_dir = 'subset_to_test/xml_to_txt/txt'\n",
    "annotations = glob.glob(annotation_dir + '*.xml')\n",
    "annotations.sort()\n",
    "\n",
    "# convert and save the annotations\n",
    "for ann in tqdm.tqdm(annotations):\n",
    "    info_dict = vocxml_to_yolotxt.extract_info_from_xml(ann)\n",
    "    vocxml_to_yolotxt.convert_to_yolo_txt(saved_dir, info_dict, class_name_to_id_mapping)"
   ]
  },
  {
   "cell_type": "code",
   "execution_count": null,
   "metadata": {},
   "outputs": [],
   "source": []
  },
  {
   "cell_type": "markdown",
   "metadata": {},
   "source": [
    "2. TXT to XML"
   ]
  },
  {
   "cell_type": "code",
   "execution_count": 6,
   "metadata": {},
   "outputs": [
    {
     "name": "stderr",
     "output_type": "stream",
     "text": [
      "100%|██████████| 55/55 [00:00<00:00, 4011.38it/s]\n"
     ]
    }
   ],
   "source": [
    "from AnnotationFormatConverter import yolotxt_to_vocxml\n",
    "\n",
    "# define id to class mapping dict\n",
    "id_to_class_name_mapping = {0: \"smoke\",\n",
    "                            1: \"fire\"}\n",
    "\n",
    "# define dataset directory that contain images and labels in the same folder\n",
    "data_dir = 'datasets/new_smoke_test_set/with_image_negatives/voc/fp/images/'\n",
    "saved_dir = 'datasets/new_smoke_test_set/with_image_negatives/voc/fp/annotations/'\n",
    "\n",
    "yolotxt_to_vocxml.convert_to_voc_xml(id_to_class_name_mapping, data_dir, saved_dir)"
   ]
  },
  {
   "cell_type": "code",
   "execution_count": null,
   "metadata": {},
   "outputs": [],
   "source": []
  },
  {
   "attachments": {},
   "cell_type": "markdown",
   "metadata": {},
   "source": [
    "3. TXT to JSON"
   ]
  },
  {
   "cell_type": "code",
   "execution_count": null,
   "metadata": {},
   "outputs": [],
   "source": []
  }
 ],
 "metadata": {
  "kernelspec": {
   "display_name": "Python 3.9.15 ('env': venv)",
   "language": "python",
   "name": "python3"
  },
  "language_info": {
   "codemirror_mode": {
    "name": "ipython",
    "version": 3
   },
   "file_extension": ".py",
   "mimetype": "text/x-python",
   "name": "python",
   "nbconvert_exporter": "python",
   "pygments_lexer": "ipython3",
   "version": "3.9.15"
  },
  "orig_nbformat": 4,
  "vscode": {
   "interpreter": {
    "hash": "7e3295586b24c3b00ceaa6aeb4bc10cf996192e4c5c6fc2ed2e1d886c12f702f"
   }
  }
 },
 "nbformat": 4,
 "nbformat_minor": 2
}
