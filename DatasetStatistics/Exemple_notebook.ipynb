{
 "cells": [
  {
   "cell_type": "code",
   "execution_count": 1,
   "metadata": {},
   "outputs": [],
   "source": [
    "import os\n",
    "import numpy as np\n",
    "from dataset_statistics import plot_labels"
   ]
  },
  {
   "cell_type": "code",
   "execution_count": 2,
   "metadata": {},
   "outputs": [],
   "source": [
    "names = {0: '0',\n",
    "        1: '1', \n",
    "        2: '2',\n",
    "        3: '3',\n",
    "        4: '4',\n",
    "        5: '5',\n",
    "        6: '6',\n",
    "        7: '7',\n",
    "        8: '8',\n",
    "        9: '9',\n",
    "        10: 'a',\n",
    "        11: 'b',\n",
    "        12: 'waw',\n",
    "        13: 'd',\n",
    "        14: 'h',\n",
    "        15: 'w',\n",
    "        16: 'ch'}"
   ]
  },
  {
   "cell_type": "code",
   "execution_count": 4,
   "metadata": {},
   "outputs": [],
   "source": [
    "images_dir = \"../data_neuroo/train/images/\"\n",
    "labels_dir = \"../data_neuroo/train/labels/\"\n",
    "\n",
    "images_path = sorted(os.listdir(images_dir))\n",
    "labels_path = sorted(os.listdir(labels_dir))\n",
    "\n",
    "labels = []\n",
    "\n",
    "for i, label_file in enumerate(labels_path):\n",
    "    fl = open(labels_dir + label_file, 'r')\n",
    "    lines = fl.readlines()\n",
    "    fl.close()\n",
    "\n",
    "    for line in lines:\n",
    "        line = line.split(\" \")\n",
    "        line = [float(i) for i in line]\n",
    "        labels.append(line)\n",
    "    \n",
    "labels = np.array(labels)"
   ]
  },
  {
   "cell_type": "code",
   "execution_count": null,
   "metadata": {},
   "outputs": [],
   "source": [
    "plot_labels(labels, names)"
   ]
  },
  {
   "cell_type": "code",
   "execution_count": null,
   "metadata": {},
   "outputs": [],
   "source": []
  }
 ],
 "metadata": {
  "kernelspec": {
   "display_name": "env",
   "language": "python",
   "name": "python3"
  },
  "language_info": {
   "codemirror_mode": {
    "name": "ipython",
    "version": 3
   },
   "file_extension": ".py",
   "mimetype": "text/x-python",
   "name": "python",
   "nbconvert_exporter": "python",
   "pygments_lexer": "ipython3",
   "version": "3.9.17"
  },
  "orig_nbformat": 4
 },
 "nbformat": 4,
 "nbformat_minor": 2
}
